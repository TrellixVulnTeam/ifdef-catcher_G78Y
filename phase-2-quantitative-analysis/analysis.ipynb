{
 "cells": [
  {
   "cell_type": "code",
   "execution_count": 1,
   "id": "99f0a4ac-777f-414f-ae83-90aabae000b1",
   "metadata": {},
   "outputs": [],
   "source": [
    "import pandas as pd\n",
    "import matplotlib.pyplot as plt\n",
    "from matplotlib.pyplot import figure"
   ]
  },
  {
   "cell_type": "code",
   "execution_count": 2,
   "id": "f7892c9a-fb66-4faa-889d-66015561617b",
   "metadata": {},
   "outputs": [],
   "source": [
    "# data\n",
    "result_after = pd.read_csv('result.csv')\n",
    "result_before = pd.read_csv('result_before_remove_equals.csv')\n",
    "compare_after = pd.read_csv('compare.csv')\n",
    "compare_before = pd.read_csv('compare_before_remove_equals.csv')"
   ]
  },
  {
   "cell_type": "markdown",
   "id": "985f17a0-9145-4483-8ccd-9862d2a13c2e",
   "metadata": {},
   "source": [
    "# Pre analysis"
   ]
  },
  {
   "cell_type": "code",
   "execution_count": 3,
   "id": "503ee1f4-85ff-4184-8620-661051d046b2",
   "metadata": {},
   "outputs": [
    {
     "name": "stdout",
     "output_type": "stream",
     "text": [
      "results: projectname, version, domain, #LOC, #AA, %disciplined, %IF, %CA, %EI, %PA, %EX, %NC, total disciplined\n",
      "compare: projectname, diff loc, diff blocks, diff % disciplined, diff disciplined\n"
     ]
    }
   ],
   "source": [
    "# columns name\n",
    "print(\"results: \" + \", \".join(result_after.columns.tolist()))\n",
    "print(\"compare: \" + \", \".join(compare_after.columns.tolist()))"
   ]
  },
  {
   "cell_type": "code",
   "execution_count": 4,
   "id": "cef2c3a9-97b2-4fb9-b333-563b3318b5bf",
   "metadata": {},
   "outputs": [
    {
     "name": "stdout",
     "output_type": "stream",
     "text": [
      "    projectname    version                   domain      #LOC    #AA  \\\n",
      "0        apache     2.2.11               Web server     35873    350   \n",
      "1        apache     2.4.46               Web server     78287    387   \n",
      "2   berkeley.db       18.1               Web server    252018   3823   \n",
      "3   berkeley.db     4.7.25               Web server    178003   3077   \n",
      "4      cherokee    0.99.11          database system      4383     19   \n",
      "5      cherokee    1.2.104          database system      5926     37   \n",
      "6        clamav      0.104        antivirus program    166726   1439   \n",
      "7        clamav     0.94.2        antivirus program     17379    237   \n",
      "8       cpython      2.6.1      program interpreter    155860   4643   \n",
      "9       cpython      3.9.3      program interpreter    203773   4036   \n",
      "10          dia     0.96.1     diagramming software     13937     46   \n",
      "11          dia     0.97.2     diagramming software     17526     80   \n",
      "12        emacs       22.3              text editor      8654    322   \n",
      "13        emacs    27.1.91              text editor     42568   2583   \n",
      "14      freebsd       12.2         operating system   7601435  70904   \n",
      "15      freebsd        7.1         operating system   1632428  20155   \n",
      "16          gcc     10.2.0       compiler framework   2117635  10729   \n",
      "17          gcc      4.3.3       compiler framework    644729   4880   \n",
      "18         gimp    2.10.24          graphics editor    247393    358   \n",
      "19         gimp      2.6.4          graphics editor    119810    267   \n",
      "20        glibc       2.33      programming library    230290   4093   \n",
      "21        glibc        2.9      programming library    107781   2721   \n",
      "22     gnumeric    1.12.49  spreadsheet application     49814     94   \n",
      "23     gnumeric      1.9.5  spreadsheet application     59399    792   \n",
      "24      gnuplot      4.2.5            plotting tool      3772     61   \n",
      "25      gnuplot      5.4.1            plotting tool     10190     89   \n",
      "26      libxml2      2.7.3              XML library     47647   1005   \n",
      "27      libxml2     2.9.10              XML library     58701   1070   \n",
      "28     lighttpd     1.4.22               Web server      3341     58   \n",
      "29     lighttpd     1.4.59               Web server     42278    790   \n",
      "30        linux   2.6.28.7         operating system   2969690  20011   \n",
      "31        linux     5.12.5         operating system  16014484  40877   \n",
      "32     openldap     2.4.16   LDAP directory service      9431     68   \n",
      "33     openldap     2.4.58   LDAP directory service     28539    316   \n",
      "34       parrot      0.9.1          virtual machine     28164    582   \n",
      "35       parrot      2.9.1          virtual machine     45939    278   \n",
      "36          php      5.2.8      program interpreter    192829   2640   \n",
      "37          php  8.0.4.rc1      program interpreter    315432   4838   \n",
      "38     postgres       13.2          database system    250686   1291   \n",
      "39     postgres  8.4.beta2          database system     29494    199   \n",
      "40       sqlite     3.35.4          database system    127642   1099   \n",
      "41       sqlite     3.6.10          database system      3424     43   \n",
      "42          tcl      8.5.7      program interpreter     10192    262   \n",
      "43          tcl     8.6.11      program interpreter     24585    607   \n",
      "44        xterm      2.4.3        terminal emulator      1729     99   \n",
      "45        xterm     3.1.7c        terminal emulator      7780     70   \n",
      "\n",
      "    %disciplined   %IF  %CA  %EI   %PA   %EX    %NC  total disciplined  \n",
      "0          82.00  0.00  0.0  0.0  0.00  0.86  17.14                287  \n",
      "1          86.30  0.00  0.0  0.0  0.00  1.03  12.66                333  \n",
      "2          92.68  0.03  0.0  0.0  0.18  0.52   6.59               3542  \n",
      "3          92.46  0.00  0.0  0.0  0.26  0.62   6.66               2845  \n",
      "4          89.47  0.00  0.0  0.0  0.00  0.00  10.53                 16  \n",
      "5         100.00  0.00  0.0  0.0  0.00  0.00   0.00                 37  \n",
      "6          90.48  0.07  0.0  0.0  0.00  0.00   9.45               1301  \n",
      "7          88.61  0.00  0.0  0.0  0.00  0.00  11.39                209  \n",
      "8          96.58  0.00  0.0  0.0  0.34  0.30   2.78               4483  \n",
      "9          95.00  0.00  0.0  0.0  0.00  0.02   4.98               3833  \n",
      "10         95.65  0.00  0.0  0.0  0.00  0.00   4.35                 43  \n",
      "11        100.00  0.00  0.0  0.0  0.00  0.00   0.00                 80  \n",
      "12         94.41  0.00  0.0  0.0  0.00  0.00   5.59                304  \n",
      "13         93.57  0.00  0.0  0.0  0.12  0.12   6.19               2417  \n",
      "14         92.09  0.00  0.0  0.0  0.13  0.23   7.55              65295  \n",
      "15         91.67  0.00  0.0  0.0  0.30  0.57   7.47              18475  \n",
      "16         88.39  0.00  0.0  0.0  0.06  1.55   9.98               9482  \n",
      "17         85.78  0.00  0.0  0.0  0.10  0.23  13.89               4186  \n",
      "18         96.09  0.00  0.0  0.0  0.28  0.28   3.35                344  \n",
      "19         97.75  0.00  0.0  0.0  0.00  0.00   2.25                261  \n",
      "20         93.43  0.05  0.0  0.0  0.00  0.17   6.35               3824  \n",
      "21         89.97  0.00  0.0  0.0  0.00  0.33   9.70               2447  \n",
      "22         90.43  0.00  0.0  0.0  0.00  0.00   9.57                 85  \n",
      "23         82.58  0.00  0.0  0.0  0.25  1.01  16.16                654  \n",
      "24         83.61  0.00  0.0  0.0  3.28  1.64  11.48                 50  \n",
      "25         88.76  0.00  0.0  0.0  0.00  0.00  11.24                 78  \n",
      "26         98.81  0.00  0.0  0.0  0.00  0.00   1.19                993  \n",
      "27         97.76  0.00  0.0  0.0  0.00  0.00   2.24               1046  \n",
      "28         98.28  0.00  0.0  0.0  0.00  0.00   1.72                 57  \n",
      "29         92.03  0.00  0.0  0.0  0.00  0.00   7.97                727  \n",
      "30         96.39  0.00  0.0  0.0  0.15  0.18   3.28              19288  \n",
      "31         97.17  0.00  0.0  0.0  0.06  0.04   2.73              39721  \n",
      "32         95.59  0.00  0.0  0.0  0.00  2.94   1.47                 64  \n",
      "33         92.09  0.00  0.0  0.0  0.00  0.63   7.28                290  \n",
      "34         97.42  0.00  0.0  0.0  0.00  0.17   2.41                567  \n",
      "35         98.56  0.00  0.0  0.0  0.00  0.36   1.08                273  \n",
      "36         90.08  0.00  0.0  0.0  0.08  0.38   9.47               2378  \n",
      "37         92.79  0.02  0.0  0.0  0.00  0.41   6.78               4489  \n",
      "38         89.54  0.00  0.0  0.0  0.31  0.39   9.76               1156  \n",
      "39         92.46  0.00  0.0  0.0  0.00  0.00   7.54                184  \n",
      "40         93.99  0.00  0.0  0.0  0.00  0.27   5.73               1033  \n",
      "41         93.02  0.00  0.0  0.0  0.00  0.00   6.98                 40  \n",
      "42         95.42  0.00  0.0  0.0  0.00  0.00   4.58                249  \n",
      "43         88.80  0.00  0.0  0.0  0.00  0.49  10.71                539  \n",
      "44         94.95  0.00  0.0  0.0  1.01  0.00   4.04                 94  \n",
      "45        100.00  0.00  0.0  0.0  0.00  0.00   0.00                 70  \n"
     ]
    }
   ],
   "source": [
    "# show results\n",
    "print(result_after)"
   ]
  },
  {
   "cell_type": "code",
   "execution_count": 5,
   "id": "c88edd66-ac50-4250-aafa-ad2b25c032b1",
   "metadata": {},
   "outputs": [
    {
     "name": "stdout",
     "output_type": "stream",
     "text": [
      "    projectname  diff loc  diff blocks  diff % disciplined  diff disciplined\n",
      "0        apache     42414           37                4.30                46\n",
      "1   berkeley.db     74015          746                0.22               697\n",
      "2      cherokee      1543           18               10.53                21\n",
      "3        clamav    149347         1202                1.87              1092\n",
      "4       cpython     47913         -607               -1.58              -650\n",
      "5           dia      3589           34                4.35                37\n",
      "6         emacs     33914         2261               -0.84              2113\n",
      "7       freebsd   5969007        50749                0.42             46820\n",
      "8           gcc   1472906         5849                2.61              5296\n",
      "9          gimp    127583           91               -1.66                83\n",
      "10        glibc    122509         1372                3.46              1377\n",
      "11     gnumeric     -9585         -698                7.85              -569\n",
      "12      gnuplot      6418           28                5.15                28\n",
      "13      libxml2     11054           65               -1.05                53\n",
      "14     lighttpd     38937          732               -6.25               670\n",
      "15        linux  13044794        20866                0.78             20433\n",
      "16     openldap     19108          248               -3.50               226\n",
      "17       parrot     17775         -304                1.14              -294\n",
      "18          php    122603         2198                2.71              2111\n",
      "19     postgres    221192         1092               -2.92               972\n",
      "20       sqlite    124218         1056                0.97               993\n",
      "21          tcl     14393          345               -6.62               290\n",
      "22        xterm      6051          -29                5.05               -24\n"
     ]
    }
   ],
   "source": [
    "# show compare\n",
    "print(compare_after)"
   ]
  },
  {
   "cell_type": "code",
   "execution_count": 6,
   "id": "fd515191-95a2-4c96-893d-596c8a021b72",
   "metadata": {},
   "outputs": [
    {
     "name": "stdout",
     "output_type": "stream",
     "text": [
      "    name before   name after  diff % disc before  diff % disc after  \\\n",
      "0        apache       apache                1.42               4.30   \n",
      "1   berkeley.db  berkeley.db                0.29               0.22   \n",
      "2      cherokee     cherokee                1.08              10.53   \n",
      "3        clamav       clamav                5.29               1.87   \n",
      "4       cpython      cpython               -0.66              -1.58   \n",
      "5           dia          dia               -0.83               4.35   \n",
      "6         emacs        emacs               -1.81              -0.84   \n",
      "7       freebsd      freebsd                0.08               0.42   \n",
      "8           gcc          gcc                0.31               2.61   \n",
      "9          gimp         gimp                0.74              -1.66   \n",
      "10        glibc        glibc                7.76               3.46   \n",
      "11     gnumeric     gnumeric                6.67               7.85   \n",
      "12      gnuplot      gnuplot               -0.02               5.15   \n",
      "13      libxml2      libxml2               -0.13              -1.05   \n",
      "14     lighttpd     lighttpd               -3.79              -6.25   \n",
      "15        linux        linux                0.50               0.78   \n",
      "16     openldap     openldap               -0.50              -3.50   \n",
      "17       parrot       parrot                0.44               1.14   \n",
      "18          php          php                0.88               2.71   \n",
      "19     postgres     postgres                0.07              -2.92   \n",
      "20       sqlite       sqlite                1.90               0.97   \n",
      "21          tcl          tcl               -7.09              -6.62   \n",
      "22        xterm        xterm                1.39               5.05   \n",
      "\n",
      "    diff loc before  diff loc after  diff blocks before  diff blocs after  \n",
      "0             62602           42414                 221                37  \n",
      "1             76246           74015                 773               746  \n",
      "2              7878            1543                  54                18  \n",
      "3            171663          149347                1128              1202  \n",
      "4            130711           47913                 222              -607  \n",
      "5              6294            3589                  50                34  \n",
      "6             34829           33914                2279              2261  \n",
      "7           6477768         5969007               54334             50749  \n",
      "8           1718403         1472906                9847              5849  \n",
      "9            189947          127583                 600                91  \n",
      "10           128944          122509                -281              1372  \n",
      "11            36839           -9585                -816              -698  \n",
      "12            24157            6418                -507                28  \n",
      "13            15164           11054                 296                65  \n",
      "14            46022           38937                 894               732  \n",
      "15         13860840        13044794               25052             20866  \n",
      "16            35193           19108                 324               248  \n",
      "17            14969           17775                -365              -304  \n",
      "18           239063          122603                3579              2198  \n",
      "19           368670          221192                1114              1092  \n",
      "20           163381          124218                2697              1056  \n",
      "21            10923           14393                -656               345  \n",
      "22            17801            6051                 431               -29  \n"
     ]
    }
   ],
   "source": [
    "compare_before_after = pd.concat([compare_before['projectname'], compare_after['projectname'], \\\n",
    "                                 compare_before['diff % disciplined'], compare_after['diff % disciplined'],\\\n",
    "                                 compare_before['diff loc'], compare_after['diff loc'], \\\n",
    "                                 compare_before['diff blocks'], compare_after['diff blocks']], \\\n",
    "                                axis=1, \\\n",
    "                                keys = ['name before','name after',\\\n",
    "                                        'diff % disc before', 'diff % disc after',\\\n",
    "                                        'diff loc before', 'diff loc after', \\\n",
    "                                        'diff blocks before', 'diff blocs after'])\n",
    "print(compare_before_after)"
   ]
  },
  {
   "cell_type": "code",
   "execution_count": 7,
   "id": "553ee454-52ea-4def-ba0b-2550aa2eb110",
   "metadata": {},
   "outputs": [
    {
     "data": {
      "text/plain": [
       "<AxesSubplot:xlabel='name before'>"
      ]
     },
     "execution_count": 7,
     "metadata": {},
     "output_type": "execute_result"
    },
    {
     "data": {
      "image/png": "[encoded data removed]",
      "text/plain": [
       "<Figure size 864x432 with 1 Axes>"
      ]
     },
     "metadata": {
      "needs_background": "light"
     },
     "output_type": "display_data"
    }
   ],
   "source": [
    "compare_before_after.plot(x='name before', y=['diff % disc before', 'diff % disc after'], kind='bar', figsize=(12,6))"
   ]
  },
  {
   "cell_type": "code",
   "execution_count": 8,
   "id": "1b5c4c8a-8d47-46db-bdd1-4d6c86820b42",
   "metadata": {},
   "outputs": [
    {
     "name": "stdout",
     "output_type": "stream",
     "text": [
      "   projectname  diff loc  diff blocks  diff % disciplined  diff disciplined\n",
      "0       apache     42414           37                4.30                46\n",
      "2     cherokee      1543           18               10.53                21\n",
      "5          dia      3589           34                4.35                37\n",
      "10       glibc    122509         1372                3.46              1377\n",
      "11    gnumeric     -9585         -698                7.85              -569\n",
      "12     gnuplot      6418           28                5.15                28\n",
      "22       xterm      6051          -29                5.05               -24\n",
      "14    lighttpd     38937          732               -6.25               670\n",
      "16    openldap     19108          248               -3.50               226\n",
      "21         tcl     14393          345               -6.62               290\n",
      "\n",
      "total > 3% or total < -3%: 10\n"
     ]
    }
   ],
   "source": [
    "candidates = compare_after.loc[compare_after['diff % disciplined'] > 3.0].append(compare_after.loc[compare_after['diff % disciplined'] < -3.0])\n",
    "\n",
    "print(candidates)\n",
    "\n",
    "print()\n",
    "print(\"total > 3% or total < -3%: \" + str(len(candidates)))"
   ]
  }
 ],
 "metadata": {
  "kernelspec": {
   "display_name": "Python 3",
   "language": "python",
   "name": "python3"
  },
  "language_info": {
   "codemirror_mode": {
    "name": "ipython",
    "version": 3
   },
   "file_extension": ".py",
   "mimetype": "text/x-python",
   "name": "python",
   "nbconvert_exporter": "python",
   "pygments_lexer": "ipython3",
   "version": "3.8.5"
  }
 },
 "nbformat": 4,
 "nbformat_minor": 5
}
