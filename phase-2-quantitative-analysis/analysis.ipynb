{
 "cells": [
  {
   "cell_type": "code",
   "execution_count": 8,
   "id": "99f0a4ac-777f-414f-ae83-90aabae000b1",
   "metadata": {},
   "outputs": [],
   "source": [
    "import pandas as pd\n",
    "import matplotlib.pyplot as plt\n",
    "from matplotlib.pyplot import figure"
   ]
  },
  {
   "cell_type": "code",
   "execution_count": 2,
   "id": "f7892c9a-fb66-4faa-889d-66015561617b",
   "metadata": {},
   "outputs": [],
   "source": [
    "# data\n",
    "result_after = pd.read_csv('result.csv')\n",
    "result_before = pd.read_csv('result_before_remove_equals.csv')\n",
    "compare_after = pd.read_csv('compare.csv')\n",
    "compare_before = pd.read_csv('compare_before_remove_equals.csv')"
   ]
  },
  {
   "cell_type": "markdown",
   "id": "985f17a0-9145-4483-8ccd-9862d2a13c2e",
   "metadata": {},
   "source": [
    "# Pre analysis"
   ]
  },
  {
   "cell_type": "code",
   "execution_count": 3,
   "id": "503ee1f4-85ff-4184-8620-661051d046b2",
   "metadata": {},
   "outputs": [
    {
     "name": "stdout",
     "output_type": "stream",
     "text": [
      "results: projectname, version, domain, #LOC, #AA, %disciplined, %IF, %CA, %EI, %PA, %EX, %NC, total disciplined\n",
      "compare: projectname, diff loc, diff blocks, diff % disciplined, diff disciplined\n"
     ]
    }
   ],
   "source": [
    "# columns name\n",
    "print(\"results: \" + \", \".join(result_after.columns.tolist()))\n",
    "print(\"compare: \" + \", \".join(compare_after.columns.tolist()))"
   ]
  },
  {
   "cell_type": "code",
   "execution_count": 4,
   "id": "cef2c3a9-97b2-4fb9-b333-563b3318b5bf",
   "metadata": {},
   "outputs": [
    {
     "name": "stdout",
     "output_type": "stream",
     "text": [
      "    projectname   version                  domain    #LOC   #AA  %disciplined  \\\n",
      "0        apache    2.2.11              Web server   35873   350         82.00   \n",
      "1        apache    2.4.46              Web server   78287   387         86.30   \n",
      "2   berkeley.db      18.1              Web server  252018  3823         92.68   \n",
      "3   berkeley.db    4.7.25              Web server  178003  3077         92.46   \n",
      "4      cherokee   0.99.11         database system    4383    19         89.47   \n",
      "..          ...       ...                     ...     ...   ...           ...   \n",
      "61         xfig    3.2.8a  vector graphics editor    1063    16         87.50   \n",
      "62      xinelib    1.1.16           media library     940     3        100.00   \n",
      "63      xinelib  1.1.20.1           media library    1788     3         33.33   \n",
      "64        xterm     2.4.3       terminal emulator    1729    99         94.95   \n",
      "65        xterm    3.1.7c       terminal emulator    7780    70        100.00   \n",
      "\n",
      "     %IF  %CA  %EI   %PA   %EX    %NC  total disciplined  \n",
      "0   0.00  0.0  0.0  0.00  0.86  17.14                287  \n",
      "1   0.00  0.0  0.0  0.00  1.03  12.66                333  \n",
      "2   0.03  0.0  0.0  0.18  0.52   6.59               3542  \n",
      "3   0.00  0.0  0.0  0.26  0.62   6.66               2845  \n",
      "4   0.00  0.0  0.0  0.00  0.00  10.53                 16  \n",
      "..   ...  ...  ...   ...   ...    ...                ...  \n",
      "61  0.00  0.0  0.0  0.00  0.00  12.50                 14  \n",
      "62  0.00  0.0  0.0  0.00  0.00   0.00                  3  \n",
      "63  0.00  0.0  0.0  0.00  0.00  66.67                  0  \n",
      "64  0.00  0.0  0.0  1.01  0.00   4.04                 94  \n",
      "65  0.00  0.0  0.0  0.00  0.00   0.00                 70  \n",
      "\n",
      "[66 rows x 13 columns]\n"
     ]
    }
   ],
   "source": [
    "# show results\n",
    "print(result_after)"
   ]
  },
  {
   "cell_type": "code",
   "execution_count": 5,
   "id": "c88edd66-ac50-4250-aafa-ad2b25c032b1",
   "metadata": {},
   "outputs": [
    {
     "name": "stdout",
     "output_type": "stream",
     "text": [
      "    projectname  diff loc  diff blocks  diff % disciplined  diff disciplined\n",
      "0        apache     42414           37                4.30                46\n",
      "1   berkeley.db     74015          746                0.22               697\n",
      "2      cherokee      1543           18               10.53                21\n",
      "3        clamav    149347         1202                1.87              1092\n",
      "4       cpython     47913         -607               -1.58              -650\n",
      "5           dia      3589           34                4.35                37\n",
      "6         emacs     33914         2261               -0.84              2113\n",
      "7       freebsd   5969007        50749                0.42             46820\n",
      "8           gcc   1472906         5849                2.61              5296\n",
      "9   ghostscript    688060         4049               -1.68              3579\n",
      "10         gimp    127583           91               -1.66                83\n",
      "11        glibc    122509         1372                3.46              1377\n",
      "12     gnumeric     -9585         -698                7.85              -569\n",
      "13      gnuplot      6418           28                5.15                28\n",
      "14        irssi      2745           -7               26.32                -1\n",
      "15      libxml2     11054           65               -1.05                53\n",
      "16     lighttpd     38937          732               -6.25               670\n",
      "17        linux  13044794        20866                0.78             20433\n",
      "18         lynx      8351           54               85.19                46\n",
      "19     openldap     19108          248               -3.50               226\n",
      "20      openvpn     11907           56               20.37               121\n",
      "21       parrot     17775         -304                1.14              -294\n",
      "22          php    122603         2198                2.71              2111\n",
      "23     postgres    221192         1092               -2.92               972\n",
      "24      privoxy         0            0                0.00                 0\n",
      "25     sendmail      1030           19              100.00                19\n",
      "26       sqlite    124218         1056                0.97               993\n",
      "27   subversion    113565          348              -35.77               221\n",
      "28     sylpheed      3847           53               96.23                50\n",
      "29          tcl     14393          345               -6.62               290\n",
      "30         xfig      1029           16               87.50                14\n",
      "31      xinelib       848            0              -66.67                -3\n",
      "32        xterm      6051          -29                5.05               -24\n"
     ]
    }
   ],
   "source": [
    "# show compare\n",
    "print(compare_after)"
   ]
  },
  {
   "cell_type": "code",
   "execution_count": 6,
   "id": "fd515191-95a2-4c96-893d-596c8a021b72",
   "metadata": {},
   "outputs": [
    {
     "name": "stdout",
     "output_type": "stream",
     "text": [
      "    name before   name after  diff % disc before  diff % disc after  \\\n",
      "0        apache       apache                1.42               4.30   \n",
      "1   berkeley.db  berkeley.db                0.29               0.22   \n",
      "2      cherokee     cherokee                1.08              10.53   \n",
      "3        clamav       clamav                5.29               1.87   \n",
      "4       cpython      cpython               -0.66              -1.58   \n",
      "5           dia          dia               -0.83               4.35   \n",
      "6         emacs        emacs               -1.81              -0.84   \n",
      "7       freebsd      freebsd                0.08               0.42   \n",
      "8           gcc          gcc                0.31               2.61   \n",
      "9   ghostscript  ghostscript               -1.04              -1.68   \n",
      "10         gimp         gimp                0.74              -1.66   \n",
      "11        glibc        glibc                7.76               3.46   \n",
      "12     gnumeric     gnumeric                6.67               7.85   \n",
      "13      gnuplot      gnuplot               -0.02               5.15   \n",
      "14        irssi        irssi               -0.22              26.32   \n",
      "15      libxml2      libxml2               -0.13              -1.05   \n",
      "16     lighttpd     lighttpd               -3.79              -6.25   \n",
      "17        linux        linux                0.50               0.78   \n",
      "18         lynx         lynx                0.36              85.19   \n",
      "19     openldap     openldap               -0.50              -3.50   \n",
      "20      openvpn      openvpn                3.11              20.37   \n",
      "21       parrot       parrot                0.44               1.14   \n",
      "22          php          php                0.88               2.71   \n",
      "23     postgres     postgres                0.07              -2.92   \n",
      "24      privoxy      privoxy               -0.61               0.00   \n",
      "25     sendmail     sendmail                0.09             100.00   \n",
      "26       sqlite       sqlite                1.90               0.97   \n",
      "27   subversion   subversion                2.02             -35.77   \n",
      "28     sylpheed     sylpheed                2.47              96.23   \n",
      "29          tcl          tcl               -7.09              -6.62   \n",
      "30         xfig         xfig               -1.27              87.50   \n",
      "31      xinelib      xinelib               -0.22             -66.67   \n",
      "32        xterm        xterm                1.39               5.05   \n",
      "\n",
      "    diff loc before  diff loc after  diff blocks before  diff blocs after  \n",
      "0             62602           42414                 221                37  \n",
      "1             76246           74015                 773               746  \n",
      "2              7878            1543                  54                18  \n",
      "3            171663          149347                1128              1202  \n",
      "4            130711           47913                 222              -607  \n",
      "5              6294            3589                  50                34  \n",
      "6             34829           33914                2279              2261  \n",
      "7           6477768         5969007               54334             50749  \n",
      "8           1718403         1472906                9847              5849  \n",
      "9            761883          688060                4113              4049  \n",
      "10           189947          127583                 600                91  \n",
      "11           128944          122509                -281              1372  \n",
      "12            36839           -9585                -816              -698  \n",
      "13            24157            6418                -507                28  \n",
      "14             8199            2745                 -11                -7  \n",
      "15            15164           11054                 296                65  \n",
      "16            46022           38937                 894               732  \n",
      "17         13860840        13044794               25052             20866  \n",
      "18             9027            8351                 163                54  \n",
      "19            35193           19108                 324               248  \n",
      "20            31333           11907                 187                56  \n",
      "21            14969           17775                -365              -304  \n",
      "22           239063          122603                3579              2198  \n",
      "23           368670          221192                1114              1092  \n",
      "24            23678               0                 708                 0  \n",
      "25             7286            1030                 462                19  \n",
      "26           163381          124218                2697              1056  \n",
      "27           122431          113565                 386               348  \n",
      "28            16357            3847                 266                53  \n",
      "29            10923           14393                -656               345  \n",
      "30             1541            1029                 -10                16  \n",
      "31             3234             848                 122                 0  \n",
      "32            17801            6051                 431               -29  \n"
     ]
    }
   ],
   "source": [
    "compare_before_after = pd.concat([compare_before['projectname'], compare_after['projectname'], \\\n",
    "                                 compare_before['diff % disciplined'], compare_after['diff % disciplined'],\\\n",
    "                                 compare_before['diff loc'], compare_after['diff loc'], \\\n",
    "                                 compare_before['diff blocks'], compare_after['diff blocks']], \\\n",
    "                                axis=1, \\\n",
    "                                keys = ['name before','name after',\\\n",
    "                                        'diff % disc before', 'diff % disc after',\\\n",
    "                                        'diff loc before', 'diff loc after', \\\n",
    "                                        'diff blocks before', 'diff blocs after'])\n",
    "print(compare_before_after)"
   ]
  },
  {
   "cell_type": "code",
   "execution_count": 15,
   "id": "553ee454-52ea-4def-ba0b-2550aa2eb110",
   "metadata": {},
   "outputs": [
    {
     "data": {
      "text/plain": [
       "<AxesSubplot:xlabel='name before'>"
      ]
     },
     "execution_count": 15,
     "metadata": {},
     "output_type": "execute_result"
    },
    {
     "data": {
      "image/png": "[encoded data removed]",
      "text/plain": [
       "<Figure size 864x432 with 1 Axes>"
      ]
     },
     "metadata": {
      "needs_background": "light"
     },
     "output_type": "display_data"
    }
   ],
   "source": [
    "compare_before_after.plot(x='name before', y=['diff % disc before', 'diff % disc after'], kind='bar', figsize=(12,6))"
   ]
  },
  {
   "cell_type": "code",
   "execution_count": 22,
   "id": "70909fd6-577f-4209-be0a-c588f2496c36",
   "metadata": {},
   "outputs": [
    {
     "name": "stdout",
     "output_type": "stream",
     "text": [
      "   projectname  #LOC  #AA  %disciplined  %IF  %CA  %EI  %PA  %EX   %NC\n",
      "60        xfig    34    0           0.0  0.0  0.0  0.0  0.0  0.0   0.0\n",
      "61        xfig  1063   16          87.5  0.0  0.0  0.0  0.0  0.0  12.5\n",
      "   projectname   #LOC  #AA  %disciplined  %IF  %CA  %EI   %PA   %EX   %NC\n",
      "40     openvpn  13991  340         73.82  0.0  0.0  0.0  1.18  0.00  25.0\n",
      "41     openvpn  25898  396         94.19  0.0  0.0  0.0  0.00  1.01   4.8\n",
      "    projectname    #LOC   #AA  %disciplined   %IF  %CA  %EI   %PA   %EX    %NC\n",
      "18  ghostscript  249081  1264         90.59  0.00  0.0  0.0  0.08  0.16   9.18\n",
      "19  ghostscript  937141  5313         88.91  0.02  0.0  0.0  0.04  0.55  10.48\n"
     ]
    }
   ],
   "source": [
    "manipuled_cases = ['xfig', 'openvpn', 'ghostscript']\n",
    "\n",
    "for m_case in manipuled_cases:\n",
    "    print(result_after.loc[result_after['projectname'] == m_case].drop(['version', 'domain', 'total disciplined'], axis=1))"
   ]
  },
  {
   "cell_type": "code",
   "execution_count": 20,
   "id": "757cc635-9b22-41cd-8744-424069cdabb7",
   "metadata": {},
   "outputs": [
    {
     "name": "stdout",
     "output_type": "stream",
     "text": [
      "   projectname  #LOC  #AA  %disciplined  %IF  %CA  %EI  %PA  %EX    %NC\n",
      "36        lynx     0    0          0.00  0.0  0.0  0.0  0.0  0.0   0.00\n",
      "37        lynx  8351   54         85.19  0.0  0.0  0.0  3.7  0.0  11.11\n",
      "   projectname  #LOC  #AA  %disciplined  %IF  %CA  %EI  %PA  %EX  %NC\n",
      "48     privoxy     0    0           0.0  0.0  0.0  0.0  0.0  0.0  0.0\n",
      "49     privoxy     0    0           0.0  0.0  0.0  0.0  0.0  0.0  0.0\n",
      "   projectname  #LOC  #AA  %disciplined  %IF  %CA  %EI  %PA  %EX  %NC\n",
      "50    sendmail     4    0           0.0  0.0  0.0  0.0  0.0  0.0  0.0\n",
      "51    sendmail  1034   19         100.0  0.0  0.0  0.0  0.0  0.0  0.0\n",
      "   projectname  #LOC  #AA  %disciplined  %IF  %CA  %EI  %PA  %EX   %NC\n",
      "56    sylpheed     0    0          0.00  0.0  0.0  0.0  0.0  0.0  0.00\n",
      "57    sylpheed  3847   53         96.23  0.0  0.0  0.0  0.0  0.0  3.77\n",
      "   projectname  #LOC  #AA  %disciplined  %IF  %CA  %EI  %PA  %EX   %NC\n",
      "60        xfig    34    0           0.0  0.0  0.0  0.0  0.0  0.0   0.0\n",
      "61        xfig  1063   16          87.5  0.0  0.0  0.0  0.0  0.0  12.5\n"
     ]
    }
   ],
   "source": [
    "special_cases = ['lynx', 'privoxy', 'sendmail', 'sylpheed', 'xfig']\n",
    "\n",
    "for s_case in special_cases:\n",
    "    print(result_after.loc[result_after['projectname'] == s_case].drop(['version', 'domain', 'total disciplined'], axis=1))"
   ]
  },
  {
   "cell_type": "code",
   "execution_count": 31,
   "id": "1b5c4c8a-8d47-46db-bdd1-4d6c86820b42",
   "metadata": {},
   "outputs": [
    {
     "name": "stdout",
     "output_type": "stream",
     "text": [
      "   projectname  diff loc  diff blocks  diff % disciplined  diff disciplined\n",
      "0       apache     42414           37                4.30                46\n",
      "2     cherokee      1543           18               10.53                21\n",
      "5          dia      3589           34                4.35                37\n",
      "11       glibc    122509         1372                3.46              1377\n",
      "12    gnumeric     -9585         -698                7.85              -569\n",
      "13     gnuplot      6418           28                5.15                28\n",
      "14       irssi      2745           -7               26.32                -1\n",
      "18        lynx      8351           54               85.19                46\n",
      "20     openvpn     11907           56               20.37               121\n",
      "25    sendmail      1030           19              100.00                19\n",
      "28    sylpheed      3847           53               96.23                50\n",
      "30        xfig      1029           16               87.50                14\n",
      "32       xterm      6051          -29                5.05               -24\n",
      "\n",
      "total - 'special cases': 9\n"
     ]
    }
   ],
   "source": [
    "print(compare_after.loc[compare_after['diff % disciplined'] > 3.0])\n",
    "\n",
    "print()\n",
    "print(\"total - 'special cases': \" + str(len(compare_after.loc[compare_after['diff % disciplined'] > 3.0]) - 4))"
   ]
  }
 ],
 "metadata": {
  "kernelspec": {
   "display_name": "Python 3",
   "language": "python",
   "name": "python3"
  },
  "language_info": {
   "codemirror_mode": {
    "name": "ipython",
    "version": 3
   },
   "file_extension": ".py",
   "mimetype": "text/x-python",
   "name": "python",
   "nbconvert_exporter": "python",
   "pygments_lexer": "ipython3",
   "version": "3.9.1"
  }
 },
 "nbformat": 4,
 "nbformat_minor": 5
}
